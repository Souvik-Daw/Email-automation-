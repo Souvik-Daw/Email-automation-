{
 "cells": [
  {
   "cell_type": "code",
   "execution_count": 1,
   "id": "ba1051e6-3af5-40e6-8be8-3176c3fd30b8",
   "metadata": {},
   "outputs": [],
   "source": [
    "import smtplib\n",
    "import pandas as pd\n",
    "#openpyxl xlrd"
   ]
  },
  {
   "cell_type": "code",
   "execution_count": 4,
   "id": "e636878e-4e37-44c8-8372-6b2ea5d0b08a",
   "metadata": {},
   "outputs": [
    {
     "name": "stdout",
     "output_type": "stream",
     "text": [
      "email send\n"
     ]
    }
   ],
   "source": [
    "#single email sender\n",
    "email = \"daw.souvik@humbleandintelligent.online\"\n",
    "receiver_email = \"s.codingcircle@gmail.com\"\n",
    "\n",
    "subject = \"Quick question for you\"\n",
    "message = \"Hi,how are you?\"\n",
    "\n",
    "text = f\"Subject: {subject}\\n\\n{message}\"\n",
    "\n",
    "s = smtplib.SMTP('smtp.stackmail.com', 587)\n",
    "s.starttls()\n",
    "\n",
    "s.login(email, \"souvik123\")\n",
    "\n",
    "s.sendmail(email, receiver_email, text)\n",
    "\n",
    "s.quit()\n",
    "\n",
    "print(\"email send\")"
   ]
  },
  {
   "cell_type": "code",
   "execution_count": 2,
   "id": "9ba95f9c-6e13-44f1-9723-83ec66e0080a",
   "metadata": {},
   "outputs": [
    {
     "name": "stdout",
     "output_type": "stream",
     "text": [
      "email send for kodewithus340@gmail.com\n",
      "email send for souvikdebpalgupta@gmail.com\n",
      "email send for basudeb2411@gmail.com\n",
      "email sending completed\n"
     ]
    }
   ],
   "source": [
    "#bulk email sender\n",
    "emailList = pd.read_excel('email.xlsx')\n",
    "email = \"daw.souvik@humbleandintelligent.online\" # need to change \n",
    "s = smtplib.SMTP('smtp.stackmail.com', 587)\n",
    "s.starttls()\n",
    "s.login(email, \"souvik123\")\n",
    "\n",
    "for index, row in emailList.iterrows():\n",
    "    receiver_email = row['email']\n",
    "    receiver_name = row['name']\n",
    "    subject = \"Quick question for \"+receiver_name\n",
    "    message = \"Dear \"+receiver_name+\"\\n\\n Hi,how are you? \\n\\n Thanks &regards\\n Souvik from KodingCircle \\n8584855651\"\n",
    "    text = f\"Subject: {subject}\\n\\n{message}\"\n",
    "    s.sendmail(email, receiver_email, text)\n",
    "    print(\"email send for \"+receiver_email)\n",
    "\n",
    "s.quit()\n",
    "print(\"email sending completed\")"
   ]
  },
  {
   "cell_type": "code",
   "execution_count": null,
   "id": "d1572788-708b-48a8-a9a6-d7d7a40cf710",
   "metadata": {},
   "outputs": [],
   "source": []
  }
 ],
 "metadata": {
  "kernelspec": {
   "display_name": "Python 3 (ipykernel)",
   "language": "python",
   "name": "python3"
  },
  "language_info": {
   "codemirror_mode": {
    "name": "ipython",
    "version": 3
   },
   "file_extension": ".py",
   "mimetype": "text/x-python",
   "name": "python",
   "nbconvert_exporter": "python",
   "pygments_lexer": "ipython3",
   "version": "3.12.3"
  }
 },
 "nbformat": 4,
 "nbformat_minor": 5
}
